{
 "cells": [
  {
   "cell_type": "code",
   "execution_count": 183,
   "metadata": {},
   "outputs": [],
   "source": [
    "import pandas as pd\n",
    "import numpy as np\n",
    "import matplotlib.pyplot as plt\n",
    "%matplotlib inline\n",
    "import seaborn as sn \n",
    "from datetime import datetime\n",
    "from pandas import Series\n",
    "import pickle"
   ]
  },
  {
   "cell_type": "code",
   "execution_count": 184,
   "metadata": {},
   "outputs": [
    {
     "data": {
      "text/html": [
       "<div>\n",
       "<style scoped>\n",
       "    .dataframe tbody tr th:only-of-type {\n",
       "        vertical-align: middle;\n",
       "    }\n",
       "\n",
       "    .dataframe tbody tr th {\n",
       "        vertical-align: top;\n",
       "    }\n",
       "\n",
       "    .dataframe thead th {\n",
       "        text-align: right;\n",
       "    }\n",
       "</style>\n",
       "<table border=\"1\" class=\"dataframe\">\n",
       "  <thead>\n",
       "    <tr style=\"text-align: right;\">\n",
       "      <th></th>\n",
       "      <th>fixedacidity</th>\n",
       "      <th>volatileacidity</th>\n",
       "      <th>citricacid</th>\n",
       "      <th>residualsugar</th>\n",
       "      <th>chlorides</th>\n",
       "      <th>freesulfurdioxide</th>\n",
       "      <th>totalsulfurdioxide</th>\n",
       "      <th>density</th>\n",
       "      <th>pH</th>\n",
       "      <th>sulphates</th>\n",
       "      <th>alcohol</th>\n",
       "      <th>quality</th>\n",
       "    </tr>\n",
       "  </thead>\n",
       "  <tbody>\n",
       "    <tr>\n",
       "      <td>0</td>\n",
       "      <td>7.4</td>\n",
       "      <td>0.70</td>\n",
       "      <td>0.0</td>\n",
       "      <td>1.9</td>\n",
       "      <td>0.076</td>\n",
       "      <td>11.0</td>\n",
       "      <td>34.0</td>\n",
       "      <td>0.9978</td>\n",
       "      <td>3.51</td>\n",
       "      <td>0.56</td>\n",
       "      <td>9.4</td>\n",
       "      <td>5</td>\n",
       "    </tr>\n",
       "    <tr>\n",
       "      <td>1</td>\n",
       "      <td>7.8</td>\n",
       "      <td>0.88</td>\n",
       "      <td>0.0</td>\n",
       "      <td>2.6</td>\n",
       "      <td>0.098</td>\n",
       "      <td>25.0</td>\n",
       "      <td>67.0</td>\n",
       "      <td>0.9968</td>\n",
       "      <td>3.20</td>\n",
       "      <td>0.68</td>\n",
       "      <td>9.8</td>\n",
       "      <td>5</td>\n",
       "    </tr>\n",
       "  </tbody>\n",
       "</table>\n",
       "</div>"
      ],
      "text/plain": [
       "   fixedacidity  volatileacidity  citricacid  residualsugar  chlorides  \\\n",
       "0           7.4             0.70         0.0            1.9      0.076   \n",
       "1           7.8             0.88         0.0            2.6      0.098   \n",
       "\n",
       "   freesulfurdioxide  totalsulfurdioxide  density    pH  sulphates  alcohol  \\\n",
       "0               11.0                34.0   0.9978  3.51       0.56      9.4   \n",
       "1               25.0                67.0   0.9968  3.20       0.68      9.8   \n",
       "\n",
       "   quality  \n",
       "0        5  \n",
       "1        5  "
      ]
     },
     "execution_count": 184,
     "metadata": {},
     "output_type": "execute_result"
    }
   ],
   "source": [
    "df=pd.read_csv(\"wine.csv\")\n",
    "df.head(2)"
   ]
  },
  {
   "cell_type": "code",
   "execution_count": 185,
   "metadata": {},
   "outputs": [
    {
     "data": {
      "text/plain": [
       "Index(['fixedacidity', 'volatileacidity', 'citricacid', 'residualsugar',\n",
       "       'chlorides', 'freesulfurdioxide', 'totalsulfurdioxide', 'density', 'pH',\n",
       "       'sulphates', 'alcohol', 'quality'],\n",
       "      dtype='object')"
      ]
     },
     "execution_count": 185,
     "metadata": {},
     "output_type": "execute_result"
    }
   ],
   "source": [
    "df.columns"
   ]
  },
  {
   "cell_type": "code",
   "execution_count": 186,
   "metadata": {},
   "outputs": [
    {
     "data": {
      "text/plain": [
       "fixedacidity          float64\n",
       "volatileacidity       float64\n",
       "citricacid            float64\n",
       "residualsugar         float64\n",
       "chlorides             float64\n",
       "freesulfurdioxide     float64\n",
       "totalsulfurdioxide    float64\n",
       "density               float64\n",
       "pH                    float64\n",
       "sulphates             float64\n",
       "alcohol               float64\n",
       "quality                 int64\n",
       "dtype: object"
      ]
     },
     "execution_count": 186,
     "metadata": {},
     "output_type": "execute_result"
    }
   ],
   "source": [
    "df.dtypes"
   ]
  },
  {
   "cell_type": "code",
   "execution_count": 187,
   "metadata": {},
   "outputs": [
    {
     "data": {
      "text/plain": [
       "(1599, 12)"
      ]
     },
     "execution_count": 187,
     "metadata": {},
     "output_type": "execute_result"
    }
   ],
   "source": [
    "df.shape"
   ]
  },
  {
   "cell_type": "code",
   "execution_count": 188,
   "metadata": {},
   "outputs": [
    {
     "data": {
      "text/html": [
       "<div>\n",
       "<style scoped>\n",
       "    .dataframe tbody tr th:only-of-type {\n",
       "        vertical-align: middle;\n",
       "    }\n",
       "\n",
       "    .dataframe tbody tr th {\n",
       "        vertical-align: top;\n",
       "    }\n",
       "\n",
       "    .dataframe thead th {\n",
       "        text-align: right;\n",
       "    }\n",
       "</style>\n",
       "<table border=\"1\" class=\"dataframe\">\n",
       "  <thead>\n",
       "    <tr style=\"text-align: right;\">\n",
       "      <th></th>\n",
       "      <th>fixedacidity</th>\n",
       "      <th>volatileacidity</th>\n",
       "      <th>citricacid</th>\n",
       "      <th>residualsugar</th>\n",
       "      <th>chlorides</th>\n",
       "      <th>freesulfurdioxide</th>\n",
       "      <th>totalsulfurdioxide</th>\n",
       "      <th>density</th>\n",
       "      <th>pH</th>\n",
       "      <th>sulphates</th>\n",
       "      <th>alcohol</th>\n",
       "      <th>quality</th>\n",
       "    </tr>\n",
       "  </thead>\n",
       "  <tbody>\n",
       "    <tr>\n",
       "      <td>count</td>\n",
       "      <td>1599.000000</td>\n",
       "      <td>1599.000000</td>\n",
       "      <td>1599.000000</td>\n",
       "      <td>1599.000000</td>\n",
       "      <td>1599.000000</td>\n",
       "      <td>1599.000000</td>\n",
       "      <td>1599.000000</td>\n",
       "      <td>1599.000000</td>\n",
       "      <td>1599.000000</td>\n",
       "      <td>1599.000000</td>\n",
       "      <td>1599.000000</td>\n",
       "      <td>1599.000000</td>\n",
       "    </tr>\n",
       "    <tr>\n",
       "      <td>mean</td>\n",
       "      <td>8.319637</td>\n",
       "      <td>0.527821</td>\n",
       "      <td>0.270976</td>\n",
       "      <td>2.538806</td>\n",
       "      <td>0.087467</td>\n",
       "      <td>15.874922</td>\n",
       "      <td>46.467792</td>\n",
       "      <td>0.996747</td>\n",
       "      <td>3.311113</td>\n",
       "      <td>0.658149</td>\n",
       "      <td>10.422983</td>\n",
       "      <td>5.636023</td>\n",
       "    </tr>\n",
       "    <tr>\n",
       "      <td>std</td>\n",
       "      <td>1.741096</td>\n",
       "      <td>0.179060</td>\n",
       "      <td>0.194801</td>\n",
       "      <td>1.409928</td>\n",
       "      <td>0.047065</td>\n",
       "      <td>10.460157</td>\n",
       "      <td>32.895324</td>\n",
       "      <td>0.001887</td>\n",
       "      <td>0.154386</td>\n",
       "      <td>0.169507</td>\n",
       "      <td>1.065668</td>\n",
       "      <td>0.807569</td>\n",
       "    </tr>\n",
       "    <tr>\n",
       "      <td>min</td>\n",
       "      <td>4.600000</td>\n",
       "      <td>0.120000</td>\n",
       "      <td>0.000000</td>\n",
       "      <td>0.900000</td>\n",
       "      <td>0.012000</td>\n",
       "      <td>1.000000</td>\n",
       "      <td>6.000000</td>\n",
       "      <td>0.990070</td>\n",
       "      <td>2.740000</td>\n",
       "      <td>0.330000</td>\n",
       "      <td>8.400000</td>\n",
       "      <td>3.000000</td>\n",
       "    </tr>\n",
       "    <tr>\n",
       "      <td>25%</td>\n",
       "      <td>7.100000</td>\n",
       "      <td>0.390000</td>\n",
       "      <td>0.090000</td>\n",
       "      <td>1.900000</td>\n",
       "      <td>0.070000</td>\n",
       "      <td>7.000000</td>\n",
       "      <td>22.000000</td>\n",
       "      <td>0.995600</td>\n",
       "      <td>3.210000</td>\n",
       "      <td>0.550000</td>\n",
       "      <td>9.500000</td>\n",
       "      <td>5.000000</td>\n",
       "    </tr>\n",
       "    <tr>\n",
       "      <td>50%</td>\n",
       "      <td>7.900000</td>\n",
       "      <td>0.520000</td>\n",
       "      <td>0.260000</td>\n",
       "      <td>2.200000</td>\n",
       "      <td>0.079000</td>\n",
       "      <td>14.000000</td>\n",
       "      <td>38.000000</td>\n",
       "      <td>0.996750</td>\n",
       "      <td>3.310000</td>\n",
       "      <td>0.620000</td>\n",
       "      <td>10.200000</td>\n",
       "      <td>6.000000</td>\n",
       "    </tr>\n",
       "    <tr>\n",
       "      <td>75%</td>\n",
       "      <td>9.200000</td>\n",
       "      <td>0.640000</td>\n",
       "      <td>0.420000</td>\n",
       "      <td>2.600000</td>\n",
       "      <td>0.090000</td>\n",
       "      <td>21.000000</td>\n",
       "      <td>62.000000</td>\n",
       "      <td>0.997835</td>\n",
       "      <td>3.400000</td>\n",
       "      <td>0.730000</td>\n",
       "      <td>11.100000</td>\n",
       "      <td>6.000000</td>\n",
       "    </tr>\n",
       "    <tr>\n",
       "      <td>max</td>\n",
       "      <td>15.900000</td>\n",
       "      <td>1.580000</td>\n",
       "      <td>1.000000</td>\n",
       "      <td>15.500000</td>\n",
       "      <td>0.611000</td>\n",
       "      <td>72.000000</td>\n",
       "      <td>289.000000</td>\n",
       "      <td>1.003690</td>\n",
       "      <td>4.010000</td>\n",
       "      <td>2.000000</td>\n",
       "      <td>14.900000</td>\n",
       "      <td>8.000000</td>\n",
       "    </tr>\n",
       "  </tbody>\n",
       "</table>\n",
       "</div>"
      ],
      "text/plain": [
       "       fixedacidity  volatileacidity   citricacid  residualsugar    chlorides  \\\n",
       "count   1599.000000      1599.000000  1599.000000    1599.000000  1599.000000   \n",
       "mean       8.319637         0.527821     0.270976       2.538806     0.087467   \n",
       "std        1.741096         0.179060     0.194801       1.409928     0.047065   \n",
       "min        4.600000         0.120000     0.000000       0.900000     0.012000   \n",
       "25%        7.100000         0.390000     0.090000       1.900000     0.070000   \n",
       "50%        7.900000         0.520000     0.260000       2.200000     0.079000   \n",
       "75%        9.200000         0.640000     0.420000       2.600000     0.090000   \n",
       "max       15.900000         1.580000     1.000000      15.500000     0.611000   \n",
       "\n",
       "       freesulfurdioxide  totalsulfurdioxide      density           pH  \\\n",
       "count        1599.000000         1599.000000  1599.000000  1599.000000   \n",
       "mean           15.874922           46.467792     0.996747     3.311113   \n",
       "std            10.460157           32.895324     0.001887     0.154386   \n",
       "min             1.000000            6.000000     0.990070     2.740000   \n",
       "25%             7.000000           22.000000     0.995600     3.210000   \n",
       "50%            14.000000           38.000000     0.996750     3.310000   \n",
       "75%            21.000000           62.000000     0.997835     3.400000   \n",
       "max            72.000000          289.000000     1.003690     4.010000   \n",
       "\n",
       "         sulphates      alcohol      quality  \n",
       "count  1599.000000  1599.000000  1599.000000  \n",
       "mean      0.658149    10.422983     5.636023  \n",
       "std       0.169507     1.065668     0.807569  \n",
       "min       0.330000     8.400000     3.000000  \n",
       "25%       0.550000     9.500000     5.000000  \n",
       "50%       0.620000    10.200000     6.000000  \n",
       "75%       0.730000    11.100000     6.000000  \n",
       "max       2.000000    14.900000     8.000000  "
      ]
     },
     "execution_count": 188,
     "metadata": {},
     "output_type": "execute_result"
    }
   ],
   "source": [
    "df.describe()"
   ]
  },
  {
   "cell_type": "code",
   "execution_count": 189,
   "metadata": {},
   "outputs": [],
   "source": [
    "X=df[['fixedacidity', 'volatileacidity', 'citricacid', 'residualsugar','chlorides', 'freesulfurdioxide']]\n",
    "y=df['quality']"
   ]
  },
  {
   "cell_type": "code",
   "execution_count": 190,
   "metadata": {},
   "outputs": [],
   "source": [
    "from sklearn.model_selection import train_test_split\n",
    "X_train,X_test,y_train,y_test=train_test_split(X,y,test_size=0.3)"
   ]
  },
  {
   "cell_type": "code",
   "execution_count": 191,
   "metadata": {},
   "outputs": [],
   "source": [
    "from sklearn.preprocessing import StandardScaler\n",
    "sc=StandardScaler()\n",
    "X_train=sc.fit_transform(X_train)\n",
    "X_test=sc.fit_transform(X_test)"
   ]
  },
  {
   "cell_type": "code",
   "execution_count": 192,
   "metadata": {},
   "outputs": [
    {
     "data": {
      "text/plain": [
       "KernelPCA()"
      ]
     },
     "execution_count": 192,
     "metadata": {},
     "output_type": "execute_result"
    }
   ],
   "source": [
    "from sklearn.decomposition import KernelPCA\n",
    "kpca=KernelPCA()\n",
    "kpca"
   ]
  },
  {
   "cell_type": "code",
   "execution_count": 193,
   "metadata": {},
   "outputs": [],
   "source": [
    "X_train=kpca.fit_transform(X_train)\n",
    "X_test=kpca.fit_transform(X_test)\n",
    "X=kpca.fit_transform(X)"
   ]
  },
  {
   "cell_type": "code",
   "execution_count": 194,
   "metadata": {},
   "outputs": [
    {
     "data": {
      "text/plain": [
       "LogisticRegression()"
      ]
     },
     "execution_count": 194,
     "metadata": {},
     "output_type": "execute_result"
    }
   ],
   "source": [
    "from sklearn.linear_model import LogisticRegression\n",
    "model2=LogisticRegression()\n",
    "model2"
   ]
  },
  {
   "cell_type": "code",
   "execution_count": 195,
   "metadata": {},
   "outputs": [
    {
     "data": {
      "text/plain": [
       "LogisticRegression()"
      ]
     },
     "execution_count": 195,
     "metadata": {},
     "output_type": "execute_result"
    }
   ],
   "source": [
    "model2.fit(X_train,y_train)"
   ]
  },
  {
   "cell_type": "code",
   "execution_count": 196,
   "metadata": {},
   "outputs": [
    {
     "data": {
      "text/plain": [
       "0.45208333333333334"
      ]
     },
     "execution_count": 196,
     "metadata": {},
     "output_type": "execute_result"
    }
   ],
   "source": [
    "model2.score(X_test,y_test)"
   ]
  },
  {
   "cell_type": "code",
   "execution_count": 197,
   "metadata": {},
   "outputs": [
    {
     "data": {
      "text/plain": [
       "array([5, 5, 6, 6, 5, 5, 5, 7, 6, 6, 5, 6, 5, 5, 5, 5, 5, 6, 6, 5, 6, 6,\n",
       "       6, 5, 6, 6, 5, 5, 5, 5, 6, 5, 6, 5, 6, 5, 6, 5, 6, 6, 5, 5, 6, 5,\n",
       "       6, 6, 6, 6, 5, 5, 5, 6, 6, 5, 5, 6, 6, 6, 5, 5, 6, 6, 5, 6, 6, 5,\n",
       "       5, 6, 6, 6, 6, 5, 6, 5, 5, 6, 5, 5, 6, 5, 6, 6, 6, 6, 5, 5, 5, 6,\n",
       "       5, 5, 6, 6, 6, 6, 5, 6, 6, 7, 7, 7, 6, 5, 5, 5, 5, 5, 7, 5, 5, 6,\n",
       "       6, 5, 6, 7, 5, 7, 6, 6, 5, 6, 7, 5, 5, 6, 6, 6, 6, 6, 5, 5, 5, 6,\n",
       "       5, 6, 6, 7, 6, 6, 5, 5, 5, 6, 6, 6, 6, 5, 5, 5, 5, 5, 6, 5, 5, 6,\n",
       "       6, 6, 5, 5, 7, 6, 6, 6, 5, 6, 5, 3, 5, 6, 7, 5, 7, 5, 5, 5, 6, 6,\n",
       "       5, 6, 5, 5, 3, 5, 5, 5, 5, 6, 6, 6, 6, 6, 7, 5, 5, 5, 5, 5, 5, 6,\n",
       "       6, 3, 5, 7, 6, 7, 7, 6, 5, 5, 6, 5, 5, 5, 5, 3, 5, 5, 6, 5, 5, 6,\n",
       "       6, 5, 5, 5, 5, 5, 6, 5, 6, 5, 6, 6, 6, 6, 5, 5, 5, 6, 5, 5, 7, 6,\n",
       "       7, 6, 5, 5, 5, 5, 5, 6, 6, 5, 5, 6, 6, 6, 6, 5, 6, 5, 6, 5, 5, 5,\n",
       "       6, 6, 7, 5, 5, 6, 6, 5, 6, 5, 5, 6, 6, 7, 6, 5, 6, 5, 5, 5, 5, 5,\n",
       "       6, 6, 3, 6, 6, 6, 6, 5, 5, 5, 7, 5, 5, 5, 3, 5, 5, 5, 5, 6, 6, 5,\n",
       "       5, 5, 5, 5, 6, 6, 5, 6, 6, 5, 5, 5, 6, 5, 5, 5, 6, 6, 5, 7, 6, 6,\n",
       "       6, 6, 5, 6, 5, 5, 5, 6, 6, 5, 5, 6, 7, 5, 5, 6, 6, 5, 5, 5, 7, 5,\n",
       "       5, 6, 6, 5, 3, 6, 6, 5, 6, 6, 7, 6, 5, 5, 5, 6, 5, 5, 6, 6, 6, 5,\n",
       "       7, 6, 5, 5, 5, 5, 5, 5, 5, 6, 5, 3, 5, 6, 5, 6, 6, 5, 5, 5, 6, 6,\n",
       "       5, 6, 6, 5, 5, 5, 5, 5, 5, 5, 5, 7, 5, 5, 5, 5, 5, 6, 5, 5, 6, 6,\n",
       "       5, 6, 5, 5, 6, 5, 6, 6, 6, 6, 5, 7, 5, 7, 6, 6, 5, 5, 7, 5, 5, 6,\n",
       "       5, 6, 6, 6, 5, 5, 5, 5, 6, 7, 6, 5, 5, 5, 5, 5, 6, 6, 6, 7, 5, 5,\n",
       "       5, 6, 6, 7, 6, 6, 6, 5, 5, 6, 5, 5, 3, 5, 5, 6, 6, 5], dtype=int64)"
      ]
     },
     "execution_count": 197,
     "metadata": {},
     "output_type": "execute_result"
    }
   ],
   "source": [
    "model2.predict(X_test)"
   ]
  },
  {
   "cell_type": "code",
   "execution_count": 198,
   "metadata": {},
   "outputs": [],
   "source": [
    "y_predict=model2.predict(X_test)"
   ]
  },
  {
   "cell_type": "code",
   "execution_count": 199,
   "metadata": {},
   "outputs": [
    {
     "data": {
      "text/plain": [
       "array([[  0,   0,   5,   0,   0,   0],\n",
       "       [  0,   0,  12,  10,   0,   0],\n",
       "       [  7,   0, 120,  62,   4,   0],\n",
       "       [  1,   0,  88,  85,  16,   0],\n",
       "       [  1,   0,  16,  35,  12,   0],\n",
       "       [  0,   0,   2,   3,   1,   0]], dtype=int64)"
      ]
     },
     "execution_count": 199,
     "metadata": {},
     "output_type": "execute_result"
    }
   ],
   "source": [
    "from sklearn.metrics import confusion_matrix\n",
    "cm=confusion_matrix(y_test,y_predict)\n",
    "cm"
   ]
  },
  {
   "cell_type": "code",
   "execution_count": 200,
   "metadata": {},
   "outputs": [
    {
     "data": {
      "text/plain": [
       "<matplotlib.axes._subplots.AxesSubplot at 0x7f2a0927f0>"
      ]
     },
     "execution_count": 200,
     "metadata": {},
     "output_type": "execute_result"
    },
    {
     "data": {
      "image/png": "[encoded data removed]",
      "text/plain": [
       "<Figure size 432x288 with 2 Axes>"
      ]
     },
     "metadata": {
      "needs_background": "light"
     },
     "output_type": "display_data"
    }
   ],
   "source": [
    "sn.heatmap(cm,annot=True)"
   ]
  },
  {
   "cell_type": "code",
   "execution_count": 201,
   "metadata": {},
   "outputs": [
    {
     "data": {
      "text/plain": [
       "0.45208333333333334"
      ]
     },
     "execution_count": 201,
     "metadata": {},
     "output_type": "execute_result"
    }
   ],
   "source": [
    "from sklearn.metrics import f1_score\n",
    "score=f1_score(y_test,y_predict,average='micro')\n",
    "score"
   ]
  },
  {
   "cell_type": "code",
   "execution_count": 202,
   "metadata": {},
   "outputs": [
    {
     "name": "stdout",
     "output_type": "stream",
     "text": [
      "              precision    recall  f1-score   support\n",
      "\n",
      "           3       0.00      0.00      0.00         5\n",
      "           4       0.00      0.00      0.00        22\n",
      "           5       0.49      0.62      0.55       193\n",
      "           6       0.44      0.45      0.44       190\n",
      "           7       0.36      0.19      0.25        64\n",
      "           8       0.00      0.00      0.00         6\n",
      "\n",
      "    accuracy                           0.45       480\n",
      "   macro avg       0.22      0.21      0.21       480\n",
      "weighted avg       0.42      0.45      0.43       480\n",
      "\n"
     ]
    },
    {
     "name": "stderr",
     "output_type": "stream",
     "text": [
      "E:\\Anaconda\\lib\\site-packages\\sklearn\\metrics\\_classification.py:1221: UndefinedMetricWarning: Precision and F-score are ill-defined and being set to 0.0 in labels with no predicted samples. Use `zero_division` parameter to control this behavior.\n",
      "  _warn_prf(average, modifier, msg_start, len(result))\n"
     ]
    }
   ],
   "source": [
    "from sklearn.metrics import classification_report\n",
    "cl=classification_report(y_test,y_predict)\n",
    "print(cl)"
   ]
  },
  {
   "cell_type": "code",
   "execution_count": 203,
   "metadata": {},
   "outputs": [],
   "source": [
    "y_predict=model2.predict(X_test)"
   ]
  },
  {
   "cell_type": "code",
   "execution_count": 204,
   "metadata": {},
   "outputs": [
    {
     "data": {
      "text/plain": [
       "array([[1.17978911e-04, 1.60840974e-02, 4.93628010e-01, 4.27327056e-01,\n",
       "        5.45095526e-02, 8.33330562e-03],\n",
       "       [4.88545009e-04, 2.94073373e-02, 4.16557560e-01, 3.80481053e-01,\n",
       "        1.48808368e-01, 2.42571364e-02],\n",
       "       [8.32508658e-06, 1.54819313e-03, 3.27854795e-01, 5.78325274e-01,\n",
       "        9.05273573e-02, 1.73605624e-03],\n",
       "       ...,\n",
       "       [5.20162124e-05, 4.95112300e-03, 3.51396038e-01, 5.57133618e-01,\n",
       "        8.33999773e-02, 3.06722743e-03],\n",
       "       [2.53986994e-04, 1.82604419e-02, 3.55864457e-01, 4.47115644e-01,\n",
       "        1.60275237e-01, 1.82302332e-02],\n",
       "       [1.31665505e-02, 9.75612317e-02, 5.51810853e-01, 2.65882626e-01,\n",
       "        6.48846747e-02, 6.69406490e-03]])"
      ]
     },
     "execution_count": 204,
     "metadata": {},
     "output_type": "execute_result"
    }
   ],
   "source": [
    "y_predict=model2.predict_proba(X_test)\n",
    "y_predict"
   ]
  },
  {
   "cell_type": "code",
   "execution_count": 205,
   "metadata": {},
   "outputs": [
    {
     "data": {
      "text/plain": [
       "array([0.0160841 , 0.02940734, 0.00154819, 0.01961856, 0.03628876,\n",
       "       0.0272807 , 0.0343952 , 0.01090284, 0.00888517, 0.01400115,\n",
       "       0.02035181, 0.00835245, 0.05617812, 0.05774153, 0.01402452,\n",
       "       0.02454022, 0.01309988, 0.02223341, 0.0094672 , 0.06091312,\n",
       "       0.01614053, 0.00306739, 0.01665554, 0.02329176, 0.00260104,\n",
       "       0.00996269, 0.00706125, 0.02345019, 0.0376933 , 0.02798655,\n",
       "       0.00418566, 0.05215419, 0.00695935, 0.0235582 , 0.01117537,\n",
       "       0.02136369, 0.02017241, 0.15878773, 0.01879933, 0.00269681,\n",
       "       0.02977765, 0.0172987 , 0.02383134, 0.03153089, 0.00232797,\n",
       "       0.00530191, 0.02678196, 0.01113793, 0.02441227, 0.0307488 ,\n",
       "       0.01168062, 0.00922816, 0.01697572, 0.05253271, 0.04101445,\n",
       "       0.00904733, 0.01489569, 0.01116165, 0.05138089, 0.02866244,\n",
       "       0.03163696, 0.00397619, 0.11833673, 0.01795321, 0.02013059,\n",
       "       0.01381366, 0.00531354, 0.00171699, 0.00864156, 0.00549461,\n",
       "       0.01113042, 0.04673311, 0.00491048, 0.01510322, 0.02262753,\n",
       "       0.00752008, 0.0235258 , 0.01784125, 0.0058864 , 0.0459938 ,\n",
       "       0.011069  , 0.02063822, 0.01450425, 0.00341303, 0.02147571,\n",
       "       0.03287299, 0.046714  , 0.01188946, 0.01868273, 0.012839  ,\n",
       "       0.05091002, 0.01059938, 0.016976  , 0.03958005, 0.08125664,\n",
       "       0.04152105, 0.00874351, 0.00413783, 0.00607497, 0.00162588,\n",
       "       0.01622118, 0.03223327, 0.00374741, 0.03127343, 0.03978887,\n",
       "       0.00428842, 0.01932521, 0.02610729, 0.0272807 , 0.00468305,\n",
       "       0.00220027, 0.02687692, 0.02774442, 0.00886753, 0.02579603,\n",
       "       0.00589732, 0.0027542 , 0.01040847, 0.01264612, 0.01376156,\n",
       "       0.00412128, 0.00774504, 0.02918388, 0.00566493, 0.01957347,\n",
       "       0.00179235, 0.00752309, 0.00154819, 0.01012242, 0.03488915,\n",
       "       0.02893449, 0.04471211, 0.0209996 , 0.01807813, 0.00939521,\n",
       "       0.00537626, 0.00554048, 0.00224014, 0.02069842, 0.00540799,\n",
       "       0.02774952, 0.01817323, 0.01287915, 0.01345916, 0.00560953,\n",
       "       0.01095416, 0.02136369, 0.03971183, 0.0445391 , 0.01865123,\n",
       "       0.0173346 , 0.09403358, 0.02134445, 0.02102054, 0.00333116,\n",
       "       0.00166174, 0.01754436, 0.08122338, 0.01893009, 0.00414501,\n",
       "       0.01450088, 0.00864156, 0.02601993, 0.03317641, 0.02870825,\n",
       "       0.02598806, 0.03941278, 0.01375941, 0.00432842, 0.0313564 ,\n",
       "       0.01663138, 0.02436485, 0.04474902, 0.06226983, 0.00814668,\n",
       "       0.00112291, 0.03020228, 0.0085814 , 0.01542665, 0.02531173,\n",
       "       0.0049555 , 0.01162186, 0.04553228, 0.03838371, 0.08410457,\n",
       "       0.03511214, 0.01311462, 0.01016435, 0.0066261 , 0.00985194,\n",
       "       0.00283566, 0.03586808, 0.03717295, 0.04187633, 0.00608858,\n",
       "       0.04119964, 0.01580253, 0.00531688, 0.01961856, 0.03465113,\n",
       "       0.01962079, 0.0112711 , 0.01126256, 0.00264504, 0.00236125,\n",
       "       0.00198853, 0.01543569, 0.02494019, 0.01340377, 0.03638271,\n",
       "       0.05549404, 0.04697473, 0.03200401, 0.01953214, 0.02959224,\n",
       "       0.04293803, 0.01168881, 0.0919074 , 0.03780926, 0.01529829,\n",
       "       0.01287634, 0.02083118, 0.01800825, 0.04019442, 0.03263352,\n",
       "       0.02072882, 0.07024316, 0.0151597 , 0.01450088, 0.03290442,\n",
       "       0.0054531 , 0.01609184, 0.0118709 , 0.00986198, 0.02747747,\n",
       "       0.05158995, 0.02250132, 0.00587699, 0.03724748, 0.01119698,\n",
       "       0.00258159, 0.01264574, 0.0012502 , 0.00665759, 0.02268242,\n",
       "       0.05026244, 0.01062513, 0.01600975, 0.0128592 , 0.01175991,\n",
       "       0.02179   , 0.04919122, 0.03119273, 0.00549461, 0.00903499,\n",
       "       0.01583359, 0.01639555, 0.05624369, 0.0123534 , 0.02748774,\n",
       "       0.02725992, 0.04064363, 0.04902293, 0.02083118, 0.02742733,\n",
       "       0.01273033, 0.00400083, 0.03957342, 0.00654357, 0.00679199,\n",
       "       0.01045788, 0.0154497 , 0.00753385, 0.02918388, 0.0766698 ,\n",
       "       0.01606796, 0.00811667, 0.00290431, 0.0123534 , 0.05755134,\n",
       "       0.02576926, 0.05962191, 0.03363052, 0.03862846, 0.00514915,\n",
       "       0.01161029, 0.02362553, 0.01693328, 0.00567419, 0.00530191,\n",
       "       0.01943575, 0.01371727, 0.00841155, 0.02293415, 0.02497516,\n",
       "       0.02748016, 0.00240572, 0.08579551, 0.0429409 , 0.01752611,\n",
       "       0.06236759, 0.04084181, 0.01695381, 0.0919074 , 0.01942217,\n",
       "       0.02738789, 0.0207139 , 0.04309031, 0.06225133, 0.05210046,\n",
       "       0.00926006, 0.0269855 , 0.01579055, 0.00698528, 0.01711575,\n",
       "       0.00648424, 0.01136812, 0.02069101, 0.02305941, 0.04099708,\n",
       "       0.00414501, 0.05864383, 0.03936095, 0.02838725, 0.0207139 ,\n",
       "       0.00549519, 0.02539836, 0.00402956, 0.01371758, 0.00257749,\n",
       "       0.0091246 , 0.01547736, 0.05831026, 0.01371914, 0.0065345 ,\n",
       "       0.00589317, 0.03073328, 0.01376805, 0.01538561, 0.01309988,\n",
       "       0.02340011, 0.00738794, 0.04666088, 0.09691377, 0.038652  ,\n",
       "       0.00242439, 0.00993235, 0.0656173 , 0.02485784, 0.01574641,\n",
       "       0.01227569, 0.03372795, 0.02441306, 0.03987469, 0.03003502,\n",
       "       0.04482759, 0.02814313, 0.00627256, 0.00334867, 0.01220195,\n",
       "       0.01103128, 0.00200388, 0.00262288, 0.01573558, 0.02513299,\n",
       "       0.01078028, 0.03111895, 0.00587699, 0.01466564, 0.02534055,\n",
       "       0.03231433, 0.01504585, 0.01564605, 0.14353401, 0.00438367,\n",
       "       0.00224014, 0.02811888, 0.02835876, 0.04418289, 0.04791393,\n",
       "       0.05259615, 0.05068884, 0.0249169 , 0.00353136, 0.04256055,\n",
       "       0.01962637, 0.02383356, 0.00403294, 0.02624731, 0.01425262,\n",
       "       0.00452623, 0.11910889, 0.03449168, 0.01448764, 0.02132913,\n",
       "       0.01365662, 0.04259811, 0.01406966, 0.00415505, 0.02899109,\n",
       "       0.01659039, 0.04936977, 0.02083528, 0.02235713, 0.19719773,\n",
       "       0.0229818 , 0.04942349, 0.00912493, 0.05085114, 0.0065345 ,\n",
       "       0.02328282, 0.02404974, 0.03518136, 0.01994725, 0.01452918,\n",
       "       0.00876879, 0.00247105, 0.00196443, 0.04540185, 0.00059217,\n",
       "       0.01998594, 0.03952032, 0.0066261 , 0.03303487, 0.0243442 ,\n",
       "       0.01680615, 0.01380327, 0.0007842 , 0.00725846, 0.00240572,\n",
       "       0.04459236, 0.00185365, 0.00213777, 0.01853133, 0.01230111,\n",
       "       0.00416857, 0.00518829, 0.05527633, 0.01879591, 0.05483933,\n",
       "       0.03130485, 0.01672614, 0.01687946, 0.00940016, 0.03677254,\n",
       "       0.0154497 , 0.00913469, 0.03705069, 0.00936704, 0.01293522,\n",
       "       0.01579055, 0.07788366, 0.03352172, 0.04512258, 0.00981264,\n",
       "       0.03521164, 0.00954854, 0.00851872, 0.02450094, 0.00697442,\n",
       "       0.09808982, 0.01289634, 0.01732432, 0.01711147, 0.02579145,\n",
       "       0.00058469, 0.00557051, 0.00491089, 0.00516172, 0.01933605,\n",
       "       0.01163163, 0.01721181, 0.0339343 , 0.01906664, 0.1263258 ,\n",
       "       0.01324048, 0.02430755, 0.00495112, 0.01826044, 0.09756123])"
      ]
     },
     "execution_count": 205,
     "metadata": {},
     "output_type": "execute_result"
    }
   ],
   "source": [
    "proba=y_predict[:,1]\n",
    "proba"
   ]
  },
  {
   "cell_type": "code",
   "execution_count": 206,
   "metadata": {},
   "outputs": [],
   "source": [
    "pickle.dump(model2, open('model003.pkl','wb'))\n",
    "\n",
    "# Loading model to compare the results\n",
    "model = pickle.load(open('model003.pkl','rb'))"
   ]
  },
  {
   "cell_type": "code",
   "execution_count": null,
   "metadata": {},
   "outputs": [],
   "source": []
  },
  {
   "cell_type": "code",
   "execution_count": null,
   "metadata": {},
   "outputs": [],
   "source": []
  },
  {
   "cell_type": "code",
   "execution_count": null,
   "metadata": {},
   "outputs": [],
   "source": []
  },
  {
   "cell_type": "code",
   "execution_count": null,
   "metadata": {},
   "outputs": [],
   "source": []
  },
  {
   "cell_type": "code",
   "execution_count": null,
   "metadata": {},
   "outputs": [],
   "source": []
  }
 ],
 "metadata": {
  "kernelspec": {
   "display_name": "Python 3",
   "language": "python",
   "name": "python3"
  },
  "language_info": {
   "codemirror_mode": {
    "name": "ipython",
    "version": 3
   },
   "file_extension": ".py",
   "mimetype": "text/x-python",
   "name": "python",
   "nbconvert_exporter": "python",
   "pygments_lexer": "ipython3",
   "version": "3.7.3"
  }
 },
 "nbformat": 4,
 "nbformat_minor": 2
}
